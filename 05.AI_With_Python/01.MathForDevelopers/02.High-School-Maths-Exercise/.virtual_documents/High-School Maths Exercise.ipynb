import sympy
import math
import numpy as np
import matplotlib.pyplot as plt























x = sympy.symbols('x')
a, b, c = sympy.symbols('a b c')






sympy.solve(a * x**2 + b * x + c, x)





def slove_linear_equation(a, b):
    if a == 0:
        return []
    else:
        return [-b / a]


def solve_quadratic_equation(a, b, c):
    if a == 0:
        # Solve the linear equation bx + c = 0
        if b == 0:
            return[]
        else:
            return [-c / b]
    D = b ** 2 - 4 * a * c
    if D > 0:
        return [(-b - math.sqrt(D)) / (2 * a), (-b + math.sqrt(D)) / (2 * a)]
    elif D == 0:
        return [(-b) / (2 * a)]
    else:
        return []



print(solve_quadratic_equation(1, -1, -2)) # [-1.0, 2.0]
print(solve_quadratic_equation(1, -8, 16)) # [4.0]
print(solve_quadratic_equation(1, 1, 1)) # []
print(solve_quadratic_equation(0, 1, 1)) # x + 1 = 0, [-1]
print(solve_quadratic_equation(0, 0, 0)) # 0x + 0 = 0, []
print(solve_quadratic_equation(0, 0, 5)) # 0x + 5 = 0, [-1]








print(math.sqrt(5))
print((math.sqrt(5)) ** 2)
print(math.pow(2, 4))
print(math.log(1))
print(math.log(64))
print(math.log(8, 4))
print(math.log(4, 8))





# Constants
a = 2
b = 3

x = 5
y = a * x + b
print(x, y)


x = list(range(6))
for num in x:
    y = a * num + b
    print(num, y)


print(np.arange(6))
x = np.linspace(0, 100, 50)
y = a * x + b
print(x)
print(y)


plt.plot(x,y)
plt.xlabel('x')
plt.ylabel('y')
plt.title('Plot of y = ax + b')
plt.show()


x = np.linspace(-20, 20, 5000)
y = a * x + b
plt.plot(x,y, c = 'red', lw = 4)
plt.title('Plot of y = ax + b')
ax = plt.gca()
ax.spines["bottom"].set_position("zero")
ax.spines["left"].set_position("zero")
ax.spines["top"].set_visible(False)
ax.spines["right"].set_visible(False)
plt.show()














def plot_math_function(f, min_x, max_x, num_points):
    x = np.linspace(mix_x, max_x, num_points)
    y = f(x)

plt.plot(x,y, c = 'red', lw = 4)
plt.show()


plot_math_function(lambda x: 2 * x + 3, -3, 5, 1000)
plot_math_function(lambda x: -x + 8, -1, 10, 1000)
plot_math_function(lambda x: x**2 - x - 2, -3, 4, 1000)
plot_math_function(lambda x: np.sin(x), -np.pi, np.pi, 1000)
plot_math_function(lambda x: np.sin(x) / x, -4 * np.pi, 4 * np.pi, 1000)





def plot_math_functions(functions, min_x, max_x, num_points):
    # Write your code here
    pass


plot_math_functions([lambda x: 2 * x + 3, lambda x: 0], -3, 5, 1000)
plot_math_functions([lambda x: 3 * x**2 - 2 * x + 5, lambda x: 3 * x + 7], -2, 3, 1000)





plot_math_functions([lambda x: (-4 * x + 7) / 3, lambda x: (-3 * x + 8) / 5, lambda x: (-x - 1) / -2], -1, 4, 1000)








# Write your code here



