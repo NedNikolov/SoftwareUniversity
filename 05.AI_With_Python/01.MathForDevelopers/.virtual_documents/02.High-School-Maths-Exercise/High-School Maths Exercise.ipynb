import sympy
import math























x = sympy.symbols('x')
a, b, c = sympy.symbols('a b c')






sympy.solve(a * x**2 + b * x + c, x)





def solve_quadratic_equation(a, b, c):
    if a == 0:
        # Solve the linear equation bx + c = 0
        if b == 0:
            return[]
        else:
            return [-c / b]
    D = b ** 2 - 4 * a * c
    if D > 0:
        return [(-b - math.sqrt(D)) / (2 * a), (-b + math.sqrt(D)) / (2 * a)]
    elif D == 0:
        return [(-b) / (2 * a)]
    else:
        return []



# Testing: Execute this cell. The outputs should match the expected outputs. Feel free to write more tests
print(solve_quadratic_equation(1, -1, -2)) # [-1.0, 2.0]
print(solve_quadratic_equation(1, -8, 16)) # [4.0]
print(solve_quadratic_equation(1, 1, 1)) # []
print(solve_quadratic_equation(0, 1, 1)) # x + 1 = 0, [-1]
print(solve_quadratic_equation(0, 0, 0)) # 0x + 0 = 0, []
print(solve_quadratic_equation(0, 0, 5)) # 0x + 5 = 0, [-1]








# Write your code here. Of course, you may add more cells if needed.





# Write your code here





# Copy and edit your code here











def plot_math_function(f, min_x, max_x, num_points):
    # Write your code here
    pass


plot_math_function(lambda x: 2 * x + 3, -3, 5, 1000)
plot_math_function(lambda x: -x + 8, -1, 10, 1000)
plot_math_function(lambda x: x**2 - x - 2, -3, 4, 1000)
plot_math_function(lambda x: np.sin(x), -np.pi, np.pi, 1000)
plot_math_function(lambda x: np.sin(x) / x, -4 * np.pi, 4 * np.pi, 1000)





def plot_math_functions(functions, min_x, max_x, num_points):
    # Write your code here
    pass


plot_math_functions([lambda x: 2 * x + 3, lambda x: 0], -3, 5, 1000)
plot_math_functions([lambda x: 3 * x**2 - 2 * x + 5, lambda x: 3 * x + 7], -2, 3, 1000)





plot_math_functions([lambda x: (-4 * x + 7) / 3, lambda x: (-3 * x + 8) / 5, lambda x: (-x - 1) / -2], -1, 4, 1000)








# Write your code here



