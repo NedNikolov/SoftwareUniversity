import numpy as np
import sympy
import math
import matplotlib.pyplot as plt
from numpy.polynomial import Polynomial


p1 = Polynomial([-8, 5, 2])
p2 = Polynomial([-2, 0, 0, 0, 3])


print(p1 + p2)


Polynomial([2, 3, 5])


p1


p2.coef


print(p1 * p2)


{"Alice", "Bob", "Charlie", "David", "Bob"} # {'Charlie', 'Alice', 'Bob', 'David’}


{x for x in range(-5, 5) if x >= 0} # {0, 1, 2, 3, 4}


set1 = {1, 2, 3, 4}
set2 = {3, 4, 5, 10, 3, 5, 10, 3, 3}
print(len(set2)) # 4
print(1 in set1) # True
print(10 not in set1) # True
print({1, 2}.issubset(set1)) # True
print(set1.union(set2)) # {1, 2, 3, 4, 5, 10}
print(set1.difference(set2)) # {1, 2}
print(set2.difference(set1)) # {10, 5}
print(set1.symmetric_difference(set2)) # {1, 2, 5, 10}
print(set1 ^ set2)
print(set1.union(set2))
print(set1 | set2)
print(set1.intersection(set2))
print(set1 & set2)



set3 = {1, 2, 5}
set4 = {"banana", "apple", "kiwi", "cherry"}
{(a, b) for a in set3 for b in set4}


for a in set3:
    for b in set4:
        pair = (a, b)
        print(pair)


def plot_function(f, x_min = -10, x_max = 10, n_values = 2000):
    plt.gca().set_aspect("equal")
    x = np.linspace(x_min, x_max, n_values)
    y = f(x)
    plt.plot(x, y)
    

plt.show()
plot_function(lambda x: np.sqrt(1 - x**2), -1, 1)
plot_function(lambda x: -np.sqrt(1 - x**2), -1, 1)


r = 1 # Radius
phi = np.linspace(0, 2 * np.pi, 1000) # Angle (full circle)
x = r * np.cos(phi)
y = r * np.sin(phi)
plt.plot(x, y)
plt.gca().set_aspect("equal")
plt.show()


r = [1] * 1000
phi = np.linspace(0, 2 * np.pi, 1000)
plt.polar(phi, r)


z = 3 + 2j
print(z) # (3+2j)
print(z.real) # 3
print(z.imag) # 2
print((3 + 2j) + (8 - 3j)) # (11-1j)
print((3 + 2j) * (8 - 3j)) # (30+7j)


coefs = [
[-4, -3, 1], # [-1. 4.]
[-4, 0, 1], # [-2. 2.]
[1, 2, 1], # [-1.00000001 -0.99999999]
[5, 4, 1] # [-2.-1.j -2.+1.j]
]

for c in coefs:
    print(Polynomial(c).roots())



