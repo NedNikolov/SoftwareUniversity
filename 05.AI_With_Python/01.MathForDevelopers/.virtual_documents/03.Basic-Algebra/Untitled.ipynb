import numpy as np
from numpy.polynomial import Polynomial


p1 = Polynomial([-8, 5, 2])
p2 = Polynomial([-2, 0, 0, 0, 3])


print(p1 + p2)


Polynomial([2, 3, 5])


p1


p2.coef


print(p1 * p2)


{"Alice", "Bob", "Charlie", "David", "Bob"} # {'Charlie', 'Alice', 'Bob', 'David’}


{x for x in range(-5, 5) if x >= 0} # {0, 1, 2, 3, 4}


set1 = {1, 2, 3, 4}
set2 = {3, 4, 5, 10, 3, 5, 10, 3, 3}
print(len(set2)) # 4
print(1 in set1) # True
print(10 not in set1) # True
print({1, 2}.issubset(set1)) # True
print(set1.union(set2)) # {1, 2, 3, 4, 5, 10}
print(set1.difference(set2)) # {1, 2}
print(set2.difference(set1)) # {10, 5}
print(set1.symmetric_difference(set2)) # {1, 2, 5, 10}
print(set1 ^ set2)
print(set1.union(set2))
print(set1 | set2)
print(set1.intersection(set2))
print(set1 & set2)




