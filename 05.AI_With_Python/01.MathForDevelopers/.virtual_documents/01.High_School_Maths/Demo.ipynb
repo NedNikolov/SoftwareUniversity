





print(1)


2 ^ 5 # 2 XOR 5


2 ** 5 # 2 TO THE POWER OF 5








def solve_linear_euation(a, b):
    if a == 0:
        return []
    else:
        return -b / a


print(solve_linear_euation(0,0))
print(solve_linear_euation(0,5))
print(solve_linear_euation(5,0))
print(solve_linear_euation(5,5))
print(solve_linear_euation(2.5,-5.3))



