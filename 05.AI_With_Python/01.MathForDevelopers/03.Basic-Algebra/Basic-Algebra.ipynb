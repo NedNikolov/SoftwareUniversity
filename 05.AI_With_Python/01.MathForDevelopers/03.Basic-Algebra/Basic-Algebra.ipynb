{
 "cells": [
  {
   "cell_type": "code",
   "execution_count": 2,
   "id": "b58d9b68-2c71-43b3-b884-97513e67a7f2",
   "metadata": {},
   "outputs": [],
   "source": [
    "import numpy as np\n",
    "from numpy.polynomial import Polynomial"
   ]
  },
  {
   "cell_type": "code",
   "execution_count": 20,
   "id": "8ec1856d-35fc-4ba3-add5-00dc9d843db1",
   "metadata": {},
   "outputs": [],
   "source": [
    "p1 = Polynomial([-8, 5, 2])\n",
    "p2 = Polynomial([-2, 0, 0, 0, 3])"
   ]
  },
  {
   "cell_type": "code",
   "execution_count": 21,
   "id": "7f0bd36e-72c8-4abf-80b1-48666bbe9214",
   "metadata": {},
   "outputs": [
    {
     "name": "stdout",
     "output_type": "stream",
     "text": [
      "-10.0 + 5.0 x + 2.0 x**2 + 0.0 x**3 + 3.0 x**4\n"
     ]
    }
   ],
   "source": [
    "print(p1 + p2)"
   ]
  },
  {
   "cell_type": "code",
   "execution_count": 22,
   "id": "c7145df2-67a8-4ef9-8bed-9f047a5b6e9d",
   "metadata": {},
   "outputs": [
    {
     "data": {
      "text/latex": [
       "$x \\mapsto \\text{2.0} + \\text{3.0}\\,x + \\text{5.0}\\,x^{2}$"
      ],
      "text/plain": [
       "Polynomial([2., 3., 5.], domain=[-1,  1], window=[-1,  1], symbol='x')"
      ]
     },
     "execution_count": 22,
     "metadata": {},
     "output_type": "execute_result"
    }
   ],
   "source": [
    "Polynomial([2, 3, 5])"
   ]
  },
  {
   "cell_type": "code",
   "execution_count": 23,
   "id": "51da77c6-7b9f-4d58-bb95-7b3a7cebd8e4",
   "metadata": {},
   "outputs": [
    {
     "data": {
      "text/latex": [
       "$x \\mapsto \\text{-8.0} + \\text{5.0}\\,x + \\text{2.0}\\,x^{2}$"
      ],
      "text/plain": [
       "Polynomial([-8.,  5.,  2.], domain=[-1,  1], window=[-1,  1], symbol='x')"
      ]
     },
     "execution_count": 23,
     "metadata": {},
     "output_type": "execute_result"
    }
   ],
   "source": [
    "p1"
   ]
  },
  {
   "cell_type": "code",
   "execution_count": 24,
   "id": "35f4ba77-d7db-4024-bc51-9ff9f2558d0e",
   "metadata": {},
   "outputs": [
    {
     "data": {
      "text/plain": [
       "array([-2.,  0.,  0.,  0.,  3.])"
      ]
     },
     "execution_count": 24,
     "metadata": {},
     "output_type": "execute_result"
    }
   ],
   "source": [
    "p2.coef"
   ]
  },
  {
   "cell_type": "code",
   "execution_count": 25,
   "id": "5eae95c6-664b-4ef4-a4ad-f897e7ff2cdf",
   "metadata": {},
   "outputs": [
    {
     "name": "stdout",
     "output_type": "stream",
     "text": [
      "16.0 - 10.0 x - 4.0 x**2 + 0.0 x**3 - 24.0 x**4 + 15.0 x**5 + 6.0 x**6\n"
     ]
    }
   ],
   "source": [
    "print(p1 * p2)"
   ]
  },
  {
   "cell_type": "code",
   "execution_count": 30,
   "id": "d44621a4-1fe0-4fc8-bbb6-4639074a19f6",
   "metadata": {},
   "outputs": [
    {
     "data": {
      "text/plain": [
       "{'Alice', 'Bob', 'Charlie', 'David'}"
      ]
     },
     "execution_count": 30,
     "metadata": {},
     "output_type": "execute_result"
    }
   ],
   "source": [
    "{\"Alice\", \"Bob\", \"Charlie\", \"David\", \"Bob\"} # {'Charlie', 'Alice', 'Bob', 'David’}"
   ]
  },
  {
   "cell_type": "code",
   "execution_count": 29,
   "id": "fcd5e3ec-7a60-4aae-9be0-eb1f1886a6b7",
   "metadata": {},
   "outputs": [
    {
     "data": {
      "text/plain": [
       "{0, 1, 2, 3, 4}"
      ]
     },
     "execution_count": 29,
     "metadata": {},
     "output_type": "execute_result"
    }
   ],
   "source": [
    "{x for x in range(-5, 5) if x >= 0} # {0, 1, 2, 3, 4}"
   ]
  },
  {
   "cell_type": "code",
   "execution_count": 38,
   "id": "a00d7f62-346f-47e3-8854-ee0d585a55a5",
   "metadata": {},
   "outputs": [
    {
     "name": "stdout",
     "output_type": "stream",
     "text": [
      "4\n",
      "True\n",
      "True\n",
      "True\n",
      "{1, 2, 3, 4, 5, 10}\n",
      "{1, 2}\n",
      "{10, 5}\n",
      "{1, 2, 5, 10}\n",
      "{1, 2, 5, 10}\n",
      "{1, 2, 3, 4, 5, 10}\n",
      "{1, 2, 3, 4, 5, 10}\n",
      "{3, 4}\n",
      "{3, 4}\n"
     ]
    }
   ],
   "source": [
    "set1 = {1, 2, 3, 4}\n",
    "set2 = {3, 4, 5, 10, 3, 5, 10, 3, 3}\n",
    "print(len(set2)) # 4\n",
    "print(1 in set1) # True\n",
    "print(10 not in set1) # True\n",
    "print({1, 2}.issubset(set1)) # True\n",
    "print(set1.union(set2)) # {1, 2, 3, 4, 5, 10}\n",
    "print(set1.difference(set2)) # {1, 2}\n",
    "print(set2.difference(set1)) # {10, 5}\n",
    "print(set1.symmetric_difference(set2)) # {1, 2, 5, 10}\n",
    "print(set1 ^ set2)\n",
    "print(set1.union(set2))\n",
    "print(set1 | set2)\n",
    "print(set1.intersection(set2))\n",
    "print(set1 & set2)\n"
   ]
  },
  {
   "cell_type": "code",
   "execution_count": null,
   "id": "71593963-5934-4ee8-95e1-c09f0b25fec0",
   "metadata": {},
   "outputs": [],
   "source": []
  }
 ],
 "metadata": {
  "kernelspec": {
   "display_name": "Python 3 (ipykernel)",
   "language": "python",
   "name": "python3"
  },
  "language_info": {
   "codemirror_mode": {
    "name": "ipython",
    "version": 3
   },
   "file_extension": ".py",
   "mimetype": "text/x-python",
   "name": "python",
   "nbconvert_exporter": "python",
   "pygments_lexer": "ipython3",
   "version": "3.11.7"
  }
 },
 "nbformat": 4,
 "nbformat_minor": 5
}
