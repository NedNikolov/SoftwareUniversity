





print(1)


2 ^ 5 # 2 XOR 5


2 ** 5 # 2 TO THE POWER OF 5



