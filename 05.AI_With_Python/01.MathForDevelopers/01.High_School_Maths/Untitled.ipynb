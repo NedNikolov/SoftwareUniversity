{
 "cells": [
  {
   "cell_type": "markdown",
   "id": "1af859d5-c6f4-4c50-ba9d-83e03cef773b",
   "metadata": {},
   "source": [
    "# High School Maths\n",
    "## Live Demos\n",
    "\n",
    "Hello World!"
   ]
  },
  {
   "cell_type": "code",
   "execution_count": null,
   "id": "c2b9ab17-7af2-425c-9d5b-0fc5b3c55fd0",
   "metadata": {},
   "outputs": [],
   "source": []
  }
 ],
 "metadata": {
  "kernelspec": {
   "display_name": "Python 3 (ipykernel)",
   "language": "python",
   "name": "python3"
  },
  "language_info": {
   "codemirror_mode": {
    "name": "ipython",
    "version": 3
   },
   "file_extension": ".py",
   "mimetype": "text/x-python",
   "name": "python",
   "nbconvert_exporter": "python",
   "pygments_lexer": "ipython3",
   "version": "3.11.7"
  }
 },
 "nbformat": 4,
 "nbformat_minor": 5
}
