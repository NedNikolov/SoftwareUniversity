{
 "cells": [
  {
   "cell_type": "markdown",
   "id": "1af859d5-c6f4-4c50-ba9d-83e03cef773b",
   "metadata": {},
   "source": [
    "# High School Maths\n",
    "## Live Demos\n",
    "\n",
    "Hello World!"
   ]
  },
  {
   "cell_type": "markdown",
   "id": "e4b6c20d-8a08-48ea-a3ce-1341535cc10f",
   "metadata": {},
   "source": [
    "$$ y = aa + b$$"
   ]
  },
  {
   "cell_type": "code",
   "execution_count": 1,
   "id": "653f3b51-f3bc-455a-b4b8-1346499f3902",
   "metadata": {},
   "outputs": [
    {
     "name": "stdout",
     "output_type": "stream",
     "text": [
      "1\n"
     ]
    }
   ],
   "source": [
    "print(1)"
   ]
  },
  {
   "cell_type": "code",
   "execution_count": 2,
   "id": "74b0ead8-b7de-45a7-89c4-184e33b31db3",
   "metadata": {},
   "outputs": [
    {
     "data": {
      "text/plain": [
       "7"
      ]
     },
     "execution_count": 2,
     "metadata": {},
     "output_type": "execute_result"
    }
   ],
   "source": [
    "2 ^ 5 # 2 XOR 5"
   ]
  },
  {
   "cell_type": "code",
   "execution_count": 3,
   "id": "46d8c3bc-9649-4a66-b1a0-cf861bee85c9",
   "metadata": {},
   "outputs": [
    {
     "data": {
      "text/plain": [
       "32"
      ]
     },
     "execution_count": 3,
     "metadata": {},
     "output_type": "execute_result"
    }
   ],
   "source": [
    "2 ** 5 # 2 TO THE POWER OF 5"
   ]
  },
  {
   "cell_type": "code",
   "execution_count": null,
   "id": "80ea15f5-793c-4df3-b5e6-2b452ba854f9",
   "metadata": {},
   "outputs": [],
   "source": []
  }
 ],
 "metadata": {
  "kernelspec": {
   "display_name": "Python 3 (ipykernel)",
   "language": "python",
   "name": "python3"
  },
  "language_info": {
   "codemirror_mode": {
    "name": "ipython",
    "version": 3
   },
   "file_extension": ".py",
   "mimetype": "text/x-python",
   "name": "python",
   "nbconvert_exporter": "python",
   "pygments_lexer": "ipython3",
   "version": "3.11.7"
  }
 },
 "nbformat": 4,
 "nbformat_minor": 5
}
