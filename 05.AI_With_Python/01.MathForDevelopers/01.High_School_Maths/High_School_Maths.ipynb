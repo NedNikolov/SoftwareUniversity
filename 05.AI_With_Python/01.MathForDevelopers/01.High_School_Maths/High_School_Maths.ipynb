{
 "cells": [
  {
   "cell_type": "markdown",
   "id": "1af859d5-c6f4-4c50-ba9d-83e03cef773b",
   "metadata": {},
   "source": [
    "# High School Maths\n",
    "## Live Demos\n",
    "\n",
    "Hello World!"
   ]
  },
  {
   "cell_type": "markdown",
   "id": "e4b6c20d-8a08-48ea-a3ce-1341535cc10f",
   "metadata": {},
   "source": [
    "$$ y = ax + b$$"
   ]
  },
  {
   "cell_type": "code",
   "execution_count": 1,
   "id": "653f3b51-f3bc-455a-b4b8-1346499f3902",
   "metadata": {},
   "outputs": [
    {
     "name": "stdout",
     "output_type": "stream",
     "text": [
      "1\n"
     ]
    }
   ],
   "source": [
    "print(1)"
   ]
  },
  {
   "cell_type": "code",
   "execution_count": 2,
   "id": "74b0ead8-b7de-45a7-89c4-184e33b31db3",
   "metadata": {},
   "outputs": [
    {
     "data": {
      "text/plain": [
       "7"
      ]
     },
     "execution_count": 2,
     "metadata": {},
     "output_type": "execute_result"
    }
   ],
   "source": [
    "2 ^ 5 # 2 XOR 5"
   ]
  },
  {
   "cell_type": "code",
   "execution_count": 3,
   "id": "46d8c3bc-9649-4a66-b1a0-cf861bee85c9",
   "metadata": {},
   "outputs": [
    {
     "data": {
      "text/plain": [
       "32"
      ]
     },
     "execution_count": 3,
     "metadata": {},
     "output_type": "execute_result"
    }
   ],
   "source": [
    "2 ** 5 # 2 TO THE POWER OF 5"
   ]
  },
  {
   "cell_type": "markdown",
   "id": "2f08256e-0513-45f2-93e8-d25ce3adccea",
   "metadata": {},
   "source": [
    "$$ 5x + 3 = 0 $$\n",
    "$$ 5x = 0 - 3 $$"
   ]
  },
  {
   "cell_type": "markdown",
   "id": "92086606-b503-4dc8-b6dc-ff607e5a61e0",
   "metadata": {},
   "source": [
    "$$ ax + b = 0 $$\n",
    "$$ ax + b - b = 0 - b$$\n",
    "$$ ax = -b :a = 0 $$"
   ]
  },
  {
   "cell_type": "code",
   "execution_count": 1,
   "id": "9c71ef10-5d0c-4e9f-af5e-c48c2a32bb07",
   "metadata": {},
   "outputs": [],
   "source": [
    "def solve_linear_euation(a, b):\n",
    "    if a == 0:\n",
    "        return []\n",
    "    else:\n",
    "        return -b / a"
   ]
  },
  {
   "cell_type": "code",
   "execution_count": 2,
   "id": "549d6e8a-32c4-49f2-8c1c-b75200ec8339",
   "metadata": {},
   "outputs": [
    {
     "name": "stdout",
     "output_type": "stream",
     "text": [
      "[]\n",
      "[]\n",
      "0.0\n",
      "-1.0\n",
      "2.12\n"
     ]
    }
   ],
   "source": [
    "print(solve_linear_euation(0,0))\n",
    "print(solve_linear_euation(0,5))\n",
    "print(solve_linear_euation(5,0))\n",
    "print(solve_linear_euation(5,5))\n",
    "print(solve_linear_euation(2.5,-5.3))"
   ]
  },
  {
   "cell_type": "code",
   "execution_count": null,
   "id": "ff60c095-7a7d-4c45-af93-51de98f55760",
   "metadata": {},
   "outputs": [],
   "source": []
  }
 ],
 "metadata": {
  "kernelspec": {
   "display_name": "Python 3 (ipykernel)",
   "language": "python",
   "name": "python3"
  },
  "language_info": {
   "codemirror_mode": {
    "name": "ipython",
    "version": 3
   },
   "file_extension": ".py",
   "mimetype": "text/x-python",
   "name": "python",
   "nbconvert_exporter": "python",
   "pygments_lexer": "ipython3",
   "version": "3.11.7"
  }
 },
 "nbformat": 4,
 "nbformat_minor": 5
}
